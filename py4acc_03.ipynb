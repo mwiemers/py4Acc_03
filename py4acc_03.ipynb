{
 "cells": [
  {
   "cell_type": "markdown",
   "metadata": {},
   "source": [
    "<img src=\"https://www.dropbox.com/s/hbboab06opouy05/big_tech.png?raw=1\" align=\"left\">"
   ]
  },
  {
   "cell_type": "markdown",
   "metadata": {},
   "source": [
    "&nbsp;\n",
    "\n",
    "# Python for Accounting - Practical 3\n",
    "\n",
    "&nbsp;\n",
    "\n",
    "Welcome to the Python for Accounting Practicals. This series of practical sessions consists of three separate sessions, that will teach you to work with stock data and financial documents in Python. \n",
    "\n",
    "Python is the most popular programming language for data analysis/data science worldwide by far and is also the most popular programming language in fintech. Python is extremely versatile and although it might not be the language of choice for every purpose it certainly can be used for almost anything. Another great feature about Python is that it is very easy to learn and that you can find blogs, tutorials, forum posts or video tutorials on almost any topic. "
   ]
  },
  {
   "cell_type": "markdown",
   "metadata": {},
   "source": [
    "### What you will learn in this session\n",
    "\n",
    "- Combine data from different companies into a single dataframe \n",
    "- Calculate new columns/variables  \n",
    "- Reshape a dataframe\n",
    "- Create and customize a bar plot with seaborn "
   ]
  },
  {
   "cell_type": "markdown",
   "metadata": {},
   "source": [
    "### More information on how the session is run"
   ]
  },
  {
   "cell_type": "markdown",
   "metadata": {},
   "source": [
    "<b>How to work together</b>: \n",
    "        <ul>\n",
    "            <li>Plesase turn on your microphone and webcam.</li>\n",
    "            <li>One shares the screen and the others requests remote control. </li>\n",
    "            <li>Take turns on who types for each exercise.</li>\n",
    "        </ul>\n",
    "<b>What to do when getting stuck</b>:\n",
    "    <ol>\n",
    "        <li>Search online:</li>\n",
    "        <ol>\n",
    "            <li>The answer box on the top of Google's results page</li>\n",
    "            <li><a href=\"https://www.stackoverflow.com\">stackoverflow.com</a> (task-specific solutions)</li>\n",
    "            <li><a href=\"https://www.w3schools.com\">w3schools.com</a> (basic python questions)</li>\n",
    "            <li><a href=\"https://www.realpython.com\">realpython.com</a> (topic-based tutorials)</li>\n",
    "        </ol>\n",
    "        <li>Ask the trainer if you struggle to find a solution.</li>\n",
    "    </ol>\n",
    "\n",
    "&nbsp;\n"
   ]
  },
  {
   "cell_type": "markdown",
   "metadata": {},
   "source": [
    "# Comparing big tech companies"
   ]
  },
  {
   "cell_type": "markdown",
   "metadata": {},
   "source": [
    "## Importing balance sheets and income statements from yahoo finance"
   ]
  },
  {
   "cell_type": "markdown",
   "metadata": {},
   "source": [
    "We want to download the balance sheets and income statements from the big tech companies, that is, Facebook, Apple, Amazon, Google and Microsoft from the yahoo finance website. Unfortunately, the pandas_datareader library does not provide a function to do that, which is why we had to write the code ourselves. You can find the function yf_financials() in the yfscrap module, which is located in the same folder as this jupyter notebook on your computer."
   ]
  },
  {
   "cell_type": "markdown",
   "metadata": {},
   "source": [
    "### Importing a balance sheet"
   ]
  },
  {
   "cell_type": "markdown",
   "metadata": {},
   "source": [
    "In the example below we are using the `yf_financials()` function to import the balance sheet from Amazon. See below for explanations on the code."
   ]
  },
  {
   "cell_type": "code",
   "execution_count": 116,
   "metadata": {},
   "outputs": [
    {
     "data": {
      "text/html": [
       "<div>\n",
       "<style scoped>\n",
       "    .dataframe tbody tr th:only-of-type {\n",
       "        vertical-align: middle;\n",
       "    }\n",
       "\n",
       "    .dataframe tbody tr th {\n",
       "        vertical-align: top;\n",
       "    }\n",
       "\n",
       "    .dataframe thead th {\n",
       "        text-align: right;\n",
       "    }\n",
       "</style>\n",
       "<table border=\"1\" class=\"dataframe\">\n",
       "  <thead>\n",
       "    <tr style=\"text-align: right;\">\n",
       "      <th></th>\n",
       "      <th>Comp</th>\n",
       "      <th>Total Assets</th>\n",
       "      <th>Total Liabilities Net Minority Interest</th>\n",
       "      <th>Total Equity Gross Minority Interest</th>\n",
       "      <th>Total Capitalization</th>\n",
       "      <th>Common Stock Equity</th>\n",
       "      <th>Capital Lease Obligations</th>\n",
       "      <th>Net Tangible Assets</th>\n",
       "      <th>Working Capital</th>\n",
       "      <th>Invested Capital</th>\n",
       "      <th>Tangible Book Value</th>\n",
       "      <th>Total Debt</th>\n",
       "      <th>Net Debt</th>\n",
       "      <th>Share Issued</th>\n",
       "      <th>Ordinary Shares Number</th>\n",
       "      <th>Treasury Shares Number</th>\n",
       "    </tr>\n",
       "    <tr>\n",
       "      <th>Date</th>\n",
       "      <th></th>\n",
       "      <th></th>\n",
       "      <th></th>\n",
       "      <th></th>\n",
       "      <th></th>\n",
       "      <th></th>\n",
       "      <th></th>\n",
       "      <th></th>\n",
       "      <th></th>\n",
       "      <th></th>\n",
       "      <th></th>\n",
       "      <th></th>\n",
       "      <th></th>\n",
       "      <th></th>\n",
       "      <th></th>\n",
       "      <th></th>\n",
       "    </tr>\n",
       "  </thead>\n",
       "  <tbody>\n",
       "    <tr>\n",
       "      <th>12/31/2019</th>\n",
       "      <td>AMZN</td>\n",
       "      <td>225248000.0</td>\n",
       "      <td>163188000.0</td>\n",
       "      <td>62060000.0</td>\n",
       "      <td>85474000.0</td>\n",
       "      <td>62060000.0</td>\n",
       "      <td>39791000.0</td>\n",
       "      <td>43257000.0</td>\n",
       "      <td>8522000.0</td>\n",
       "      <td>85474000.0</td>\n",
       "      <td>43257000.0</td>\n",
       "      <td>63205000.0</td>\n",
       "      <td>4221000.0</td>\n",
       "      <td>521000.0</td>\n",
       "      <td>498000.0</td>\n",
       "      <td>23000.0</td>\n",
       "    </tr>\n",
       "    <tr>\n",
       "      <th>12/31/2018</th>\n",
       "      <td>AMZN</td>\n",
       "      <td>162648000.0</td>\n",
       "      <td>119099000.0</td>\n",
       "      <td>43549000.0</td>\n",
       "      <td>67044000.0</td>\n",
       "      <td>43549000.0</td>\n",
       "      <td>16292000.0</td>\n",
       "      <td>24891000.0</td>\n",
       "      <td>6710000.0</td>\n",
       "      <td>67044000.0</td>\n",
       "      <td>24891000.0</td>\n",
       "      <td>39787000.0</td>\n",
       "      <td>NaN</td>\n",
       "      <td>514000.0</td>\n",
       "      <td>491000.0</td>\n",
       "      <td>23000.0</td>\n",
       "    </tr>\n",
       "    <tr>\n",
       "      <th>12/31/2017</th>\n",
       "      <td>AMZN</td>\n",
       "      <td>131310000.0</td>\n",
       "      <td>103601000.0</td>\n",
       "      <td>27709000.0</td>\n",
       "      <td>52452000.0</td>\n",
       "      <td>27709000.0</td>\n",
       "      <td>13183000.0</td>\n",
       "      <td>10988000.0</td>\n",
       "      <td>2314000.0</td>\n",
       "      <td>52452000.0</td>\n",
       "      <td>10988000.0</td>\n",
       "      <td>37926000.0</td>\n",
       "      <td>NaN</td>\n",
       "      <td>507000.0</td>\n",
       "      <td>484000.0</td>\n",
       "      <td>23000.0</td>\n",
       "    </tr>\n",
       "    <tr>\n",
       "      <th>12/31/2016</th>\n",
       "      <td>AMZN</td>\n",
       "      <td>83402000.0</td>\n",
       "      <td>64117000.0</td>\n",
       "      <td>19285000.0</td>\n",
       "      <td>26979000.0</td>\n",
       "      <td>19285000.0</td>\n",
       "      <td>7519000.0</td>\n",
       "      <td>14647000.0</td>\n",
       "      <td>1965000.0</td>\n",
       "      <td>26979000.0</td>\n",
       "      <td>14647000.0</td>\n",
       "      <td>15213000.0</td>\n",
       "      <td>NaN</td>\n",
       "      <td>500000.0</td>\n",
       "      <td>477000.0</td>\n",
       "      <td>23000.0</td>\n",
       "    </tr>\n",
       "  </tbody>\n",
       "</table>\n",
       "</div>"
      ],
      "text/plain": [
       "0           Comp  Total Assets  Total Liabilities Net Minority Interest  \\\n",
       "Date                                                                      \n",
       "12/31/2019  AMZN   225248000.0                              163188000.0   \n",
       "12/31/2018  AMZN   162648000.0                              119099000.0   \n",
       "12/31/2017  AMZN   131310000.0                              103601000.0   \n",
       "12/31/2016  AMZN    83402000.0                               64117000.0   \n",
       "\n",
       "0           Total Equity Gross Minority Interest  Total Capitalization  \\\n",
       "Date                                                                     \n",
       "12/31/2019                            62060000.0            85474000.0   \n",
       "12/31/2018                            43549000.0            67044000.0   \n",
       "12/31/2017                            27709000.0            52452000.0   \n",
       "12/31/2016                            19285000.0            26979000.0   \n",
       "\n",
       "0           Common Stock Equity  Capital Lease Obligations  \\\n",
       "Date                                                         \n",
       "12/31/2019           62060000.0                 39791000.0   \n",
       "12/31/2018           43549000.0                 16292000.0   \n",
       "12/31/2017           27709000.0                 13183000.0   \n",
       "12/31/2016           19285000.0                  7519000.0   \n",
       "\n",
       "0           Net Tangible Assets  Working Capital  Invested Capital  \\\n",
       "Date                                                                 \n",
       "12/31/2019           43257000.0        8522000.0        85474000.0   \n",
       "12/31/2018           24891000.0        6710000.0        67044000.0   \n",
       "12/31/2017           10988000.0        2314000.0        52452000.0   \n",
       "12/31/2016           14647000.0        1965000.0        26979000.0   \n",
       "\n",
       "0           Tangible Book Value  Total Debt   Net Debt  Share Issued  \\\n",
       "Date                                                                   \n",
       "12/31/2019           43257000.0  63205000.0  4221000.0      521000.0   \n",
       "12/31/2018           24891000.0  39787000.0        NaN      514000.0   \n",
       "12/31/2017           10988000.0  37926000.0        NaN      507000.0   \n",
       "12/31/2016           14647000.0  15213000.0        NaN      500000.0   \n",
       "\n",
       "0           Ordinary Shares Number  Treasury Shares Number  \n",
       "Date                                                        \n",
       "12/31/2019                498000.0                 23000.0  \n",
       "12/31/2018                491000.0                 23000.0  \n",
       "12/31/2017                484000.0                 23000.0  \n",
       "12/31/2016                477000.0                 23000.0  "
      ]
     },
     "metadata": {},
     "output_type": "display_data"
    }
   ],
   "source": [
    "# import libraries\n",
    "from yfscrap import yf_financials\n",
    "import pandas as pd\n",
    "import matplotlib.pyplot as plt\n",
    "\n",
    "# change pandas options to display all columns and change display format\n",
    "pd.set_option('display.max.columns', None)\n",
    "\n",
    "# download Amazon balance sheet\n",
    "balance_sheet_amzn = yf_financials('AMZN', type_='bs')\n",
    "\n",
    "display(balance_sheet_amzn)"
   ]
  },
  {
   "cell_type": "markdown",
   "metadata": {},
   "source": [
    "#### Line 2-4: Importing libraries\n",
    "<br>\n",
    "\n",
    "```python\n",
    "from yfscrap import yf_financials\n",
    "import pandas as pd\n",
    "import matplotlib.pyplot as plt\n",
    "```\n",
    "We import the function **yf_financials()** from the local module **yfscrap**, which is located in the same folder as this jupyter notebook. We also import pandas and matplotlib.\n",
    "\n",
    "#### Line 7: Changing the pandas display options\n",
    "<br>\n",
    "\n",
    "```python\n",
    "pd.set_option('display.max.columns', None)\n",
    "```\n",
    "To always display all columns from a dataframe we set the max columns option to None. The income statement has many columns...\n",
    "\n",
    "#### Line 10: Downloading the balance sheet\n",
    "<br>\n",
    "\n",
    "```python\n",
    "balance_sheet_amzn = yf_financials('AMZN', type_='bs')\n",
    "```\n",
    "The `yf_financials()` function takes two arguments - the ticker of the stock and the type of document to download (balance sheet or income statemnent). We pass `'bs'` as the argument for `type_` to download the balance sheet.\n",
    "\n",
    "&nbsp;"
   ]
  },
  {
   "cell_type": "markdown",
   "metadata": {},
   "source": [
    "&nbsp;\n",
    "\n",
    "### Task 1: Importing the income statement for Amazon\n",
    "\n",
    "1. Use the help() function on the yf_financials function to find out which value to pass to the type_ argument in order to download an income statement.\n",
    "2. Download the income statement from Amazon\n",
    "3. Display the income statement\n",
    "4. Print the column types of the income statement to check that all columns with numerical values have a numeric type"
   ]
  },
  {
   "cell_type": "code",
   "execution_count": 28,
   "metadata": {},
   "outputs": [],
   "source": [
    "# get documentation on yf_financials()\n",
    "\n",
    "\n",
    "# download income statement from Amazon\n",
    "\n",
    "\n",
    "# display income statement\n",
    "\n",
    "\n",
    "# check column types\n",
    "\n"
   ]
  },
  {
   "cell_type": "markdown",
   "metadata": {},
   "source": [
    "&nbsp;\n",
    "\n",
    "## Combining balance sheets and income statements with .append()"
   ]
  },
  {
   "cell_type": "markdown",
   "metadata": {},
   "source": [
    "Since we want to download balance sheets and income statements from more than one company, it would be ideal if we could combine all balance sheets and all income statements into two respetive dataframes.\n",
    "\n",
    "We can easily combine them with the .append() method. See the example below on how to combine two balance sheets."
   ]
  },
  {
   "cell_type": "code",
   "execution_count": 2,
   "metadata": {},
   "outputs": [
    {
     "data": {
      "text/html": [
       "<div>\n",
       "<style scoped>\n",
       "    .dataframe tbody tr th:only-of-type {\n",
       "        vertical-align: middle;\n",
       "    }\n",
       "\n",
       "    .dataframe tbody tr th {\n",
       "        vertical-align: top;\n",
       "    }\n",
       "\n",
       "    .dataframe thead th {\n",
       "        text-align: right;\n",
       "    }\n",
       "</style>\n",
       "<table border=\"1\" class=\"dataframe\">\n",
       "  <thead>\n",
       "    <tr style=\"text-align: right;\">\n",
       "      <th></th>\n",
       "      <th>Comp</th>\n",
       "      <th>Total Assets</th>\n",
       "      <th>Total Liabilities Net Minority Interest</th>\n",
       "      <th>Total Equity Gross Minority Interest</th>\n",
       "      <th>Total Capitalization</th>\n",
       "      <th>Common Stock Equity</th>\n",
       "      <th>Capital Lease Obligations</th>\n",
       "      <th>Net Tangible Assets</th>\n",
       "      <th>Working Capital</th>\n",
       "      <th>Invested Capital</th>\n",
       "      <th>Tangible Book Value</th>\n",
       "      <th>Total Debt</th>\n",
       "      <th>Net Debt</th>\n",
       "      <th>Share Issued</th>\n",
       "      <th>Ordinary Shares Number</th>\n",
       "      <th>Treasury Shares Number</th>\n",
       "    </tr>\n",
       "    <tr>\n",
       "      <th>Date</th>\n",
       "      <th></th>\n",
       "      <th></th>\n",
       "      <th></th>\n",
       "      <th></th>\n",
       "      <th></th>\n",
       "      <th></th>\n",
       "      <th></th>\n",
       "      <th></th>\n",
       "      <th></th>\n",
       "      <th></th>\n",
       "      <th></th>\n",
       "      <th></th>\n",
       "      <th></th>\n",
       "      <th></th>\n",
       "      <th></th>\n",
       "      <th></th>\n",
       "    </tr>\n",
       "  </thead>\n",
       "  <tbody>\n",
       "    <tr>\n",
       "      <th>12/31/2019</th>\n",
       "      <td>AMZN</td>\n",
       "      <td>225248000.0</td>\n",
       "      <td>163188000.0</td>\n",
       "      <td>62060000.0</td>\n",
       "      <td>85474000.0</td>\n",
       "      <td>62060000.0</td>\n",
       "      <td>39791000.0</td>\n",
       "      <td>43257000.0</td>\n",
       "      <td>8522000.0</td>\n",
       "      <td>85474000.0</td>\n",
       "      <td>43257000.0</td>\n",
       "      <td>63205000.0</td>\n",
       "      <td>4221000.0</td>\n",
       "      <td>521000.0</td>\n",
       "      <td>498000.0</td>\n",
       "      <td>23000.0</td>\n",
       "    </tr>\n",
       "    <tr>\n",
       "      <th>12/31/2018</th>\n",
       "      <td>AMZN</td>\n",
       "      <td>162648000.0</td>\n",
       "      <td>119099000.0</td>\n",
       "      <td>43549000.0</td>\n",
       "      <td>67044000.0</td>\n",
       "      <td>43549000.0</td>\n",
       "      <td>16292000.0</td>\n",
       "      <td>24891000.0</td>\n",
       "      <td>6710000.0</td>\n",
       "      <td>67044000.0</td>\n",
       "      <td>24891000.0</td>\n",
       "      <td>39787000.0</td>\n",
       "      <td>NaN</td>\n",
       "      <td>514000.0</td>\n",
       "      <td>491000.0</td>\n",
       "      <td>23000.0</td>\n",
       "    </tr>\n",
       "    <tr>\n",
       "      <th>12/31/2017</th>\n",
       "      <td>AMZN</td>\n",
       "      <td>131310000.0</td>\n",
       "      <td>103601000.0</td>\n",
       "      <td>27709000.0</td>\n",
       "      <td>52452000.0</td>\n",
       "      <td>27709000.0</td>\n",
       "      <td>13183000.0</td>\n",
       "      <td>10988000.0</td>\n",
       "      <td>2314000.0</td>\n",
       "      <td>52452000.0</td>\n",
       "      <td>10988000.0</td>\n",
       "      <td>37926000.0</td>\n",
       "      <td>NaN</td>\n",
       "      <td>507000.0</td>\n",
       "      <td>484000.0</td>\n",
       "      <td>23000.0</td>\n",
       "    </tr>\n",
       "    <tr>\n",
       "      <th>12/31/2016</th>\n",
       "      <td>AMZN</td>\n",
       "      <td>83402000.0</td>\n",
       "      <td>64117000.0</td>\n",
       "      <td>19285000.0</td>\n",
       "      <td>26979000.0</td>\n",
       "      <td>19285000.0</td>\n",
       "      <td>7519000.0</td>\n",
       "      <td>14647000.0</td>\n",
       "      <td>1965000.0</td>\n",
       "      <td>26979000.0</td>\n",
       "      <td>14647000.0</td>\n",
       "      <td>15213000.0</td>\n",
       "      <td>NaN</td>\n",
       "      <td>500000.0</td>\n",
       "      <td>477000.0</td>\n",
       "      <td>23000.0</td>\n",
       "    </tr>\n",
       "    <tr>\n",
       "      <th>6/30/2020</th>\n",
       "      <td>MSFT</td>\n",
       "      <td>301311000.0</td>\n",
       "      <td>183007000.0</td>\n",
       "      <td>118304000.0</td>\n",
       "      <td>177882000.0</td>\n",
       "      <td>118304000.0</td>\n",
       "      <td>7671000.0</td>\n",
       "      <td>67915000.0</td>\n",
       "      <td>109605000.0</td>\n",
       "      <td>181631000.0</td>\n",
       "      <td>67915000.0</td>\n",
       "      <td>70998000.0</td>\n",
       "      <td>49751000.0</td>\n",
       "      <td>7571000.0</td>\n",
       "      <td>7571000.0</td>\n",
       "      <td>NaN</td>\n",
       "    </tr>\n",
       "    <tr>\n",
       "      <th>6/30/2019</th>\n",
       "      <td>MSFT</td>\n",
       "      <td>286556000.0</td>\n",
       "      <td>184226000.0</td>\n",
       "      <td>102330000.0</td>\n",
       "      <td>168992000.0</td>\n",
       "      <td>102330000.0</td>\n",
       "      <td>6188000.0</td>\n",
       "      <td>52554000.0</td>\n",
       "      <td>106132000.0</td>\n",
       "      <td>174508000.0</td>\n",
       "      <td>52554000.0</td>\n",
       "      <td>78366000.0</td>\n",
       "      <td>60822000.0</td>\n",
       "      <td>7643000.0</td>\n",
       "      <td>7643000.0</td>\n",
       "      <td>NaN</td>\n",
       "    </tr>\n",
       "    <tr>\n",
       "      <th>6/30/2018</th>\n",
       "      <td>MSFT</td>\n",
       "      <td>258848000.0</td>\n",
       "      <td>176130000.0</td>\n",
       "      <td>82718000.0</td>\n",
       "      <td>154960000.0</td>\n",
       "      <td>82718000.0</td>\n",
       "      <td>5568000.0</td>\n",
       "      <td>38982000.0</td>\n",
       "      <td>111174000.0</td>\n",
       "      <td>158958000.0</td>\n",
       "      <td>38982000.0</td>\n",
       "      <td>81808000.0</td>\n",
       "      <td>64294000.0</td>\n",
       "      <td>7677000.0</td>\n",
       "      <td>7677000.0</td>\n",
       "      <td>NaN</td>\n",
       "    </tr>\n",
       "    <tr>\n",
       "      <th>6/30/2017</th>\n",
       "      <td>MSFT</td>\n",
       "      <td>241086000.0</td>\n",
       "      <td>168692000.0</td>\n",
       "      <td>72394000.0</td>\n",
       "      <td>148467000.0</td>\n",
       "      <td>72394000.0</td>\n",
       "      <td>NaN</td>\n",
       "      <td>27166000.0</td>\n",
       "      <td>95324000.0</td>\n",
       "      <td>158588000.0</td>\n",
       "      <td>27166000.0</td>\n",
       "      <td>86194000.0</td>\n",
       "      <td>78531000.0</td>\n",
       "      <td>7708000.0</td>\n",
       "      <td>7708000.0</td>\n",
       "      <td>NaN</td>\n",
       "    </tr>\n",
       "  </tbody>\n",
       "</table>\n",
       "</div>"
      ],
      "text/plain": [
       "            Comp  Total Assets  Total Liabilities Net Minority Interest  \\\n",
       "Date                                                                      \n",
       "12/31/2019  AMZN   225248000.0                              163188000.0   \n",
       "12/31/2018  AMZN   162648000.0                              119099000.0   \n",
       "12/31/2017  AMZN   131310000.0                              103601000.0   \n",
       "12/31/2016  AMZN    83402000.0                               64117000.0   \n",
       "6/30/2020   MSFT   301311000.0                              183007000.0   \n",
       "6/30/2019   MSFT   286556000.0                              184226000.0   \n",
       "6/30/2018   MSFT   258848000.0                              176130000.0   \n",
       "6/30/2017   MSFT   241086000.0                              168692000.0   \n",
       "\n",
       "            Total Equity Gross Minority Interest  Total Capitalization  \\\n",
       "Date                                                                     \n",
       "12/31/2019                            62060000.0            85474000.0   \n",
       "12/31/2018                            43549000.0            67044000.0   \n",
       "12/31/2017                            27709000.0            52452000.0   \n",
       "12/31/2016                            19285000.0            26979000.0   \n",
       "6/30/2020                            118304000.0           177882000.0   \n",
       "6/30/2019                            102330000.0           168992000.0   \n",
       "6/30/2018                             82718000.0           154960000.0   \n",
       "6/30/2017                             72394000.0           148467000.0   \n",
       "\n",
       "            Common Stock Equity  Capital Lease Obligations  \\\n",
       "Date                                                         \n",
       "12/31/2019           62060000.0                 39791000.0   \n",
       "12/31/2018           43549000.0                 16292000.0   \n",
       "12/31/2017           27709000.0                 13183000.0   \n",
       "12/31/2016           19285000.0                  7519000.0   \n",
       "6/30/2020           118304000.0                  7671000.0   \n",
       "6/30/2019           102330000.0                  6188000.0   \n",
       "6/30/2018            82718000.0                  5568000.0   \n",
       "6/30/2017            72394000.0                        NaN   \n",
       "\n",
       "            Net Tangible Assets  Working Capital  Invested Capital  \\\n",
       "Date                                                                 \n",
       "12/31/2019           43257000.0        8522000.0        85474000.0   \n",
       "12/31/2018           24891000.0        6710000.0        67044000.0   \n",
       "12/31/2017           10988000.0        2314000.0        52452000.0   \n",
       "12/31/2016           14647000.0        1965000.0        26979000.0   \n",
       "6/30/2020            67915000.0      109605000.0       181631000.0   \n",
       "6/30/2019            52554000.0      106132000.0       174508000.0   \n",
       "6/30/2018            38982000.0      111174000.0       158958000.0   \n",
       "6/30/2017            27166000.0       95324000.0       158588000.0   \n",
       "\n",
       "            Tangible Book Value  Total Debt    Net Debt  Share Issued  \\\n",
       "Date                                                                    \n",
       "12/31/2019           43257000.0  63205000.0   4221000.0      521000.0   \n",
       "12/31/2018           24891000.0  39787000.0         NaN      514000.0   \n",
       "12/31/2017           10988000.0  37926000.0         NaN      507000.0   \n",
       "12/31/2016           14647000.0  15213000.0         NaN      500000.0   \n",
       "6/30/2020            67915000.0  70998000.0  49751000.0     7571000.0   \n",
       "6/30/2019            52554000.0  78366000.0  60822000.0     7643000.0   \n",
       "6/30/2018            38982000.0  81808000.0  64294000.0     7677000.0   \n",
       "6/30/2017            27166000.0  86194000.0  78531000.0     7708000.0   \n",
       "\n",
       "            Ordinary Shares Number  Treasury Shares Number  \n",
       "Date                                                        \n",
       "12/31/2019                498000.0                 23000.0  \n",
       "12/31/2018                491000.0                 23000.0  \n",
       "12/31/2017                484000.0                 23000.0  \n",
       "12/31/2016                477000.0                 23000.0  \n",
       "6/30/2020                7571000.0                     NaN  \n",
       "6/30/2019                7643000.0                     NaN  \n",
       "6/30/2018                7677000.0                     NaN  \n",
       "6/30/2017                7708000.0                     NaN  "
      ]
     },
     "metadata": {},
     "output_type": "display_data"
    }
   ],
   "source": [
    "# download balance sheet for Amazon\n",
    "balance_sheets = yf_financials('AMZN', type_='bs')\n",
    "\n",
    "# download balance sheet for Microsoft\n",
    "balance_sheet_msft = yf_financials('MSFT', type_='bs')\n",
    "\n",
    "# append balance_sheet_msft to balance_sheets\n",
    "balance_sheets = balance_sheets.append(balance_sheet_msft)\n",
    "\n",
    "display(balance_sheets)"
   ]
  },
  {
   "cell_type": "markdown",
   "metadata": {},
   "source": [
    "&nbsp;\n",
    "\n",
    "### Task 2: Combine all balance sheets\n",
    "\n",
    "Fill in the blanks in the code cell below to \n",
    "1. Loop through the remaining tickers from the list `tickers` starting with `'AAPL'` (the ticker at list index 1).\n",
    "2. In each iteration of the for loop download the balance sheet and append it to the dataframe `balance_sheets`\n",
    "3. Display `balance_sheets`"
   ]
  },
  {
   "cell_type": "code",
   "execution_count": null,
   "metadata": {},
   "outputs": [],
   "source": [
    "tickers = ['AMZN', 'AAPL', 'MSFT', 'GOOG', 'FB']\n",
    "\n",
    "# download balance sheet for first ticker\n",
    "balance_sheets = yf_financials(ticker[0], type_='bs')\n",
    "\n",
    "# loop through remaining tickers\n",
    "for _ _ _ _ in _ _ _ _:\n",
    "    # downoad balance sheet for ticker\n",
    "    balance_sheet =\n",
    "    # append balance sheet\n",
    "    balance_sheets = \n",
    "\n",
    "# display balance sheets\n",
    "display()"
   ]
  },
  {
   "cell_type": "markdown",
   "metadata": {},
   "source": [
    "&nbsp;\n",
    "\n",
    "### Task 3: Combine all income statements\n",
    "\n",
    "Copy the code from the above cell and adjust it to download and combine all income statements."
   ]
  },
  {
   "cell_type": "code",
   "execution_count": null,
   "metadata": {},
   "outputs": [],
   "source": []
  },
  {
   "cell_type": "markdown",
   "metadata": {},
   "source": [
    "&nbsp;\n",
    "\n",
    "## Working with balance sheets and income statements"
   ]
  },
  {
   "cell_type": "markdown",
   "metadata": {},
   "source": [
    "The values in the balance sheets and incoment statements are in Thousands, which is why we have to multiply all values *apart from those in the **Comp** column* by 1000.\n",
    "\n",
    "<img src=\"https://www.dropbox.com/s/9rmhgbr2vm05vpb/yahoo_finance01.png?raw=1\" width=\"400px\" align=\"left\">"
   ]
  },
  {
   "cell_type": "markdown",
   "metadata": {},
   "source": [
    "We can select a number of columns by their label with the .loc property. See an example below on how to select a series of columns with .loc"
   ]
  },
  {
   "cell_type": "code",
   "execution_count": 19,
   "metadata": {},
   "outputs": [
    {
     "data": {
      "text/html": [
       "<div>\n",
       "<style scoped>\n",
       "    .dataframe tbody tr th:only-of-type {\n",
       "        vertical-align: middle;\n",
       "    }\n",
       "\n",
       "    .dataframe tbody tr th {\n",
       "        vertical-align: top;\n",
       "    }\n",
       "\n",
       "    .dataframe thead th {\n",
       "        text-align: right;\n",
       "    }\n",
       "</style>\n",
       "<table border=\"1\" class=\"dataframe\">\n",
       "  <thead>\n",
       "    <tr style=\"text-align: right;\">\n",
       "      <th></th>\n",
       "      <th>b</th>\n",
       "      <th>c</th>\n",
       "      <th>d</th>\n",
       "    </tr>\n",
       "  </thead>\n",
       "  <tbody>\n",
       "    <tr>\n",
       "      <th>0</th>\n",
       "      <td>1</td>\n",
       "      <td>1</td>\n",
       "      <td>1</td>\n",
       "    </tr>\n",
       "    <tr>\n",
       "      <th>1</th>\n",
       "      <td>2</td>\n",
       "      <td>2</td>\n",
       "      <td>2</td>\n",
       "    </tr>\n",
       "    <tr>\n",
       "      <th>2</th>\n",
       "      <td>3</td>\n",
       "      <td>3</td>\n",
       "      <td>3</td>\n",
       "    </tr>\n",
       "    <tr>\n",
       "      <th>3</th>\n",
       "      <td>4</td>\n",
       "      <td>4</td>\n",
       "      <td>4</td>\n",
       "    </tr>\n",
       "    <tr>\n",
       "      <th>4</th>\n",
       "      <td>5</td>\n",
       "      <td>5</td>\n",
       "      <td>5</td>\n",
       "    </tr>\n",
       "  </tbody>\n",
       "</table>\n",
       "</div>"
      ],
      "text/plain": [
       "   b  c  d\n",
       "0  1  1  1\n",
       "1  2  2  2\n",
       "2  3  3  3\n",
       "3  4  4  4\n",
       "4  5  5  5"
      ]
     },
     "execution_count": 19,
     "metadata": {},
     "output_type": "execute_result"
    }
   ],
   "source": [
    "df = pd.DataFrame({'a':[1,2,3,4,5], \n",
    "                   'b':[1,2,3,4,5], \n",
    "                   'c':[1,2,3,4,5],\n",
    "                   'd':[1,2,3,4,5]})\n",
    "\n",
    "df.loc[:, 'b' : 'd']"
   ]
  },
  {
   "cell_type": "markdown",
   "metadata": {},
   "source": [
    "&nbsp;\n",
    "\n",
    "### Task 4: Multiply numerical values by 1000\n",
    "\n",
    "Use the .loc property to update all but the **Comp** column's values in the balance_sheets and income_statements data frame."
   ]
  },
  {
   "cell_type": "code",
   "execution_count": null,
   "metadata": {},
   "outputs": [],
   "source": []
  },
  {
   "cell_type": "markdown",
   "metadata": {},
   "source": [
    "&nbsp;\n",
    "\n",
    "### Task 5: Calculating gross profit margin and operating margin\n",
    "\n",
    "1. Create a new column in the income_statements dataset to calculate the Gross Profit Margin: gross profit divided by total revenue x 100\n",
    "2. Create another new column in the income_statements dataset to cacluate the operating margin: EBIT divided by total revenue x 100"
   ]
  },
  {
   "cell_type": "code",
   "execution_count": null,
   "metadata": {},
   "outputs": [],
   "source": []
  },
  {
   "cell_type": "markdown",
   "metadata": {},
   "source": [
    "&nbsp;\n",
    "\n",
    "## Plotting with seaborn\n",
    "\n",
    "In the next step, we will create a bar plot showing the gross profit and operating margin for each company. We will use the seaborn library for this plot. The seaborn library is based on matplotlib. In comparison to matplotlib, it is often a lot easier to create a nice looking plot with seaborn. Matplotlib, however, offers you more options to create highly customized plots."
   ]
  },
  {
   "cell_type": "markdown",
   "metadata": {},
   "source": [
    "### Barplot with seaborn"
   ]
  },
  {
   "cell_type": "markdown",
   "metadata": {},
   "source": [
    "To demonstrate how to create a barplot with seaborn, we will use the titanic dataset to plot how passenger class and sex affect survival rates. Below we first load the titanic dataset with `sns.load_dataset('titanic')`.\n",
    "\n",
    "The first three columns code for whether a passenger survived (0: no, 1: yes), the passenger class (1, 2, 3) and the sex (male, female)."
   ]
  },
  {
   "cell_type": "code",
   "execution_count": 13,
   "metadata": {},
   "outputs": [
    {
     "data": {
      "text/html": [
       "<div>\n",
       "<style scoped>\n",
       "    .dataframe tbody tr th:only-of-type {\n",
       "        vertical-align: middle;\n",
       "    }\n",
       "\n",
       "    .dataframe tbody tr th {\n",
       "        vertical-align: top;\n",
       "    }\n",
       "\n",
       "    .dataframe thead th {\n",
       "        text-align: right;\n",
       "    }\n",
       "</style>\n",
       "<table border=\"1\" class=\"dataframe\">\n",
       "  <thead>\n",
       "    <tr style=\"text-align: right;\">\n",
       "      <th></th>\n",
       "      <th>survived</th>\n",
       "      <th>pclass</th>\n",
       "      <th>sex</th>\n",
       "      <th>age</th>\n",
       "      <th>sibsp</th>\n",
       "      <th>parch</th>\n",
       "      <th>fare</th>\n",
       "      <th>embarked</th>\n",
       "      <th>class</th>\n",
       "      <th>who</th>\n",
       "      <th>adult_male</th>\n",
       "      <th>deck</th>\n",
       "      <th>embark_town</th>\n",
       "      <th>alive</th>\n",
       "      <th>alone</th>\n",
       "    </tr>\n",
       "  </thead>\n",
       "  <tbody>\n",
       "    <tr>\n",
       "      <th>0</th>\n",
       "      <td>0</td>\n",
       "      <td>3</td>\n",
       "      <td>male</td>\n",
       "      <td>22.0</td>\n",
       "      <td>1</td>\n",
       "      <td>0</td>\n",
       "      <td>7.2500</td>\n",
       "      <td>S</td>\n",
       "      <td>Third</td>\n",
       "      <td>man</td>\n",
       "      <td>True</td>\n",
       "      <td>NaN</td>\n",
       "      <td>Southampton</td>\n",
       "      <td>no</td>\n",
       "      <td>False</td>\n",
       "    </tr>\n",
       "    <tr>\n",
       "      <th>1</th>\n",
       "      <td>1</td>\n",
       "      <td>1</td>\n",
       "      <td>female</td>\n",
       "      <td>38.0</td>\n",
       "      <td>1</td>\n",
       "      <td>0</td>\n",
       "      <td>71.2833</td>\n",
       "      <td>C</td>\n",
       "      <td>First</td>\n",
       "      <td>woman</td>\n",
       "      <td>False</td>\n",
       "      <td>C</td>\n",
       "      <td>Cherbourg</td>\n",
       "      <td>yes</td>\n",
       "      <td>False</td>\n",
       "    </tr>\n",
       "    <tr>\n",
       "      <th>2</th>\n",
       "      <td>1</td>\n",
       "      <td>3</td>\n",
       "      <td>female</td>\n",
       "      <td>26.0</td>\n",
       "      <td>0</td>\n",
       "      <td>0</td>\n",
       "      <td>7.9250</td>\n",
       "      <td>S</td>\n",
       "      <td>Third</td>\n",
       "      <td>woman</td>\n",
       "      <td>False</td>\n",
       "      <td>NaN</td>\n",
       "      <td>Southampton</td>\n",
       "      <td>yes</td>\n",
       "      <td>True</td>\n",
       "    </tr>\n",
       "    <tr>\n",
       "      <th>3</th>\n",
       "      <td>1</td>\n",
       "      <td>1</td>\n",
       "      <td>female</td>\n",
       "      <td>35.0</td>\n",
       "      <td>1</td>\n",
       "      <td>0</td>\n",
       "      <td>53.1000</td>\n",
       "      <td>S</td>\n",
       "      <td>First</td>\n",
       "      <td>woman</td>\n",
       "      <td>False</td>\n",
       "      <td>C</td>\n",
       "      <td>Southampton</td>\n",
       "      <td>yes</td>\n",
       "      <td>False</td>\n",
       "    </tr>\n",
       "    <tr>\n",
       "      <th>4</th>\n",
       "      <td>0</td>\n",
       "      <td>3</td>\n",
       "      <td>male</td>\n",
       "      <td>35.0</td>\n",
       "      <td>0</td>\n",
       "      <td>0</td>\n",
       "      <td>8.0500</td>\n",
       "      <td>S</td>\n",
       "      <td>Third</td>\n",
       "      <td>man</td>\n",
       "      <td>True</td>\n",
       "      <td>NaN</td>\n",
       "      <td>Southampton</td>\n",
       "      <td>no</td>\n",
       "      <td>True</td>\n",
       "    </tr>\n",
       "  </tbody>\n",
       "</table>\n",
       "</div>"
      ],
      "text/plain": [
       "   survived  pclass     sex   age  sibsp  parch     fare embarked  class  \\\n",
       "0         0       3    male  22.0      1      0   7.2500        S  Third   \n",
       "1         1       1  female  38.0      1      0  71.2833        C  First   \n",
       "2         1       3  female  26.0      0      0   7.9250        S  Third   \n",
       "3         1       1  female  35.0      1      0  53.1000        S  First   \n",
       "4         0       3    male  35.0      0      0   8.0500        S  Third   \n",
       "\n",
       "     who  adult_male deck  embark_town alive  alone  \n",
       "0    man        True  NaN  Southampton    no  False  \n",
       "1  woman       False    C    Cherbourg   yes  False  \n",
       "2  woman       False  NaN  Southampton   yes   True  \n",
       "3  woman       False    C  Southampton   yes  False  \n",
       "4    man        True  NaN  Southampton    no   True  "
      ]
     },
     "execution_count": 13,
     "metadata": {},
     "output_type": "execute_result"
    }
   ],
   "source": [
    "import seaborn as sns\n",
    "\n",
    "titanic = sns.load_dataset('titanic')\n",
    "\n",
    "titanic.head()"
   ]
  },
  {
   "cell_type": "markdown",
   "metadata": {},
   "source": [
    "### A simple bar plot"
   ]
  },
  {
   "cell_type": "markdown",
   "metadata": {},
   "source": [
    "We will now plot the survival rates based on the **survived** column as a function of the passenger class, which is stored in the **pclass** column. We want to plot the passenger class on the x-axis and the Survival rate on the y-axis.\n",
    "\n",
    "To do so, we use the `catplot()` function to plot the average of the values in the survived column, i.e. the surival rate, for each passenger class. [The `catplot()` function can be used to draw a number of categorical plots:  strip, swarm, box, violin, boxen, point, bar, or count](https://seaborn.pydata.org/tutorial/categorical.html).\n",
    "\n",
    "We pass as arguments:\n",
    "1. `x='pclass'`: To plot the categorical variable **pclass** on the x-axis\n",
    "2. `y='survived'`: To plot the mean of the column **survived** on the y-axis\n",
    "3. `kind='bar'`: To draw a barplot.\n",
    "4. `data=titanic`: The dataset to be used.\n",
    "\n",
    "We assign the created plot object to the variable **g**, so that we can call the plot object to modify it later on."
   ]
  },
  {
   "cell_type": "code",
   "execution_count": 59,
   "metadata": {},
   "outputs": [
    {
     "data": {
      "image/png": "[encoded data removed]",
      "text/plain": [
       "<Figure size 360x360 with 1 Axes>"
      ]
     },
     "metadata": {
      "needs_background": "light"
     },
     "output_type": "display_data"
    }
   ],
   "source": [
    "g = sns.catplot(x='pclass', y='survived', kind='bar', data=titanic)"
   ]
  },
  {
   "cell_type": "markdown",
   "metadata": {},
   "source": [
    "### A grouped bar plot"
   ]
  },
  {
   "cell_type": "markdown",
   "metadata": {},
   "source": [
    "In the next step, we will plot the survival rate as a function of two variables: passenger class and sex. We still want the passenger class to be plotted at different positions on the x-axis but we will also plot differently coloured bars for female and male passengers within each passenger class.\n",
    "\n",
    "To plot male and female passengers in different colours, we include `hue='sex'` in the function call."
   ]
  },
  {
   "cell_type": "code",
   "execution_count": 60,
   "metadata": {},
   "outputs": [
    {
     "data": {
      "image/png": "[encoded data removed]",
      "text/plain": [
       "<Figure size 430.5x360 with 1 Axes>"
      ]
     },
     "metadata": {
      "needs_background": "light"
     },
     "output_type": "display_data"
    }
   ],
   "source": [
    "g = sns.catplot(x='class', y='survived', hue='sex', kind='bar', data=titanic)"
   ]
  },
  {
   "cell_type": "markdown",
   "metadata": {},
   "source": [
    "## Creating a margin plot with seaborn"
   ]
  },
  {
   "cell_type": "markdown",
   "metadata": {},
   "source": [
    "Before we can plot the data, we have to prepare it so that we can create a grouped barplot."
   ]
  },
  {
   "cell_type": "markdown",
   "metadata": {},
   "source": [
    "### Preparing the data"
   ]
  },
  {
   "cell_type": "markdown",
   "metadata": {},
   "source": [
    "In the first step we will select the data from 2019 by using the .loc property to only select the values from 2019. The companies use slightly different times to release their annual reports, which is why we first set up a **mask** variable to return a list of True and False values for when the date in the index column is either `'12/31/2019'`, `'9/30/2019'` or `'6/30/2019'`.\n",
    "\n",
    "We then apply the **mask** with the .loc property and also select the columns for the company, the gross profit margin and the operating margin with the **columns** list."
   ]
  },
  {
   "cell_type": "code",
   "execution_count": 93,
   "metadata": {},
   "outputs": [
    {
     "data": {
      "text/html": [
       "<div>\n",
       "<style scoped>\n",
       "    .dataframe tbody tr th:only-of-type {\n",
       "        vertical-align: middle;\n",
       "    }\n",
       "\n",
       "    .dataframe tbody tr th {\n",
       "        vertical-align: top;\n",
       "    }\n",
       "\n",
       "    .dataframe thead th {\n",
       "        text-align: right;\n",
       "    }\n",
       "</style>\n",
       "<table border=\"1\" class=\"dataframe\">\n",
       "  <thead>\n",
       "    <tr style=\"text-align: right;\">\n",
       "      <th></th>\n",
       "      <th>Comp</th>\n",
       "      <th>gross_profit_margin</th>\n",
       "      <th>operating_margin</th>\n",
       "    </tr>\n",
       "    <tr>\n",
       "      <th>Date</th>\n",
       "      <th></th>\n",
       "      <th></th>\n",
       "      <th></th>\n",
       "    </tr>\n",
       "  </thead>\n",
       "  <tbody>\n",
       "    <tr>\n",
       "      <th>12/31/2019</th>\n",
       "      <td>AMZN</td>\n",
       "      <td>26.648177</td>\n",
       "      <td>5.552506</td>\n",
       "    </tr>\n",
       "    <tr>\n",
       "      <th>9/30/2019</th>\n",
       "      <td>AAPL</td>\n",
       "      <td>37.817768</td>\n",
       "      <td>26.641017</td>\n",
       "    </tr>\n",
       "    <tr>\n",
       "      <th>6/30/2019</th>\n",
       "      <td>MSFT</td>\n",
       "      <td>65.901957</td>\n",
       "      <td>36.850679</td>\n",
       "    </tr>\n",
       "    <tr>\n",
       "      <th>12/31/2019</th>\n",
       "      <td>GOOG</td>\n",
       "      <td>55.580543</td>\n",
       "      <td>24.543270</td>\n",
       "    </tr>\n",
       "    <tr>\n",
       "      <th>12/31/2019</th>\n",
       "      <td>FB</td>\n",
       "      <td>81.936999</td>\n",
       "      <td>35.124546</td>\n",
       "    </tr>\n",
       "  </tbody>\n",
       "</table>\n",
       "</div>"
      ],
      "text/plain": [
       "            Comp  gross_profit_margin  operating_margin\n",
       "Date                                                   \n",
       "12/31/2019  AMZN            26.648177          5.552506\n",
       "9/30/2019   AAPL            37.817768         26.641017\n",
       "6/30/2019   MSFT            65.901957         36.850679\n",
       "12/31/2019  GOOG            55.580543         24.543270\n",
       "12/31/2019    FB            81.936999         35.124546"
      ]
     },
     "execution_count": 93,
     "metadata": {},
     "output_type": "execute_result"
    }
   ],
   "source": [
    "# selecting data from 2019\n",
    "columns = ['Comp', 'gross_profit_margin', 'operating_margin']\n",
    "mask = (income_statements.index == '12/31/2019') | (income_statements.index == '9/30/2019') | (income_statements.index == '6/30/2019') \n",
    "margins = income_statements.loc[mask, columns]\n",
    "margins"
   ]
  },
  {
   "cell_type": "markdown",
   "metadata": {},
   "source": [
    "In order to create a grouped bar plot which plots two bars, one for the gross profit margin and one for the operating margin, for each company, we have to *reshape* the dataset. \n",
    "\n",
    "We can use the `pd.melt()` function to combine the values from the columns **gross_profit_margin** and **operating_margin** into a single column. It will also add a new categorical variable to the dataset that uses the column names **gross_profit_margin** and **operating_margin** to indicate what the values represent.\n",
    "\n",
    "The `pd.melt()` function takes as arguments:\n",
    "1. `margins`: The dataframe that should be reshaped as the first argument.\n",
    "2. `id_vars='Comp'`: The column that identifies a unique observation, which is the **Comp** column. We pass the **Comp** column as the identifier, so that those values are excluded from the column that combines the margin values.\n",
    "3. `var_name='margin_type'`: The name to be used for the new categorical variable.\n",
    "4. `value_name='margin_value'`: The name to be used for the column that combines the values.\n"
   ]
  },
  {
   "cell_type": "code",
   "execution_count": 94,
   "metadata": {},
   "outputs": [
    {
     "data": {
      "text/html": [
       "<div>\n",
       "<style scoped>\n",
       "    .dataframe tbody tr th:only-of-type {\n",
       "        vertical-align: middle;\n",
       "    }\n",
       "\n",
       "    .dataframe tbody tr th {\n",
       "        vertical-align: top;\n",
       "    }\n",
       "\n",
       "    .dataframe thead th {\n",
       "        text-align: right;\n",
       "    }\n",
       "</style>\n",
       "<table border=\"1\" class=\"dataframe\">\n",
       "  <thead>\n",
       "    <tr style=\"text-align: right;\">\n",
       "      <th></th>\n",
       "      <th>Comp</th>\n",
       "      <th>margin_type</th>\n",
       "      <th>margin_value</th>\n",
       "    </tr>\n",
       "  </thead>\n",
       "  <tbody>\n",
       "    <tr>\n",
       "      <th>0</th>\n",
       "      <td>AMZN</td>\n",
       "      <td>gross_profit_margin</td>\n",
       "      <td>26.648177</td>\n",
       "    </tr>\n",
       "    <tr>\n",
       "      <th>1</th>\n",
       "      <td>AAPL</td>\n",
       "      <td>gross_profit_margin</td>\n",
       "      <td>37.817768</td>\n",
       "    </tr>\n",
       "    <tr>\n",
       "      <th>2</th>\n",
       "      <td>MSFT</td>\n",
       "      <td>gross_profit_margin</td>\n",
       "      <td>65.901957</td>\n",
       "    </tr>\n",
       "    <tr>\n",
       "      <th>3</th>\n",
       "      <td>GOOG</td>\n",
       "      <td>gross_profit_margin</td>\n",
       "      <td>55.580543</td>\n",
       "    </tr>\n",
       "    <tr>\n",
       "      <th>4</th>\n",
       "      <td>FB</td>\n",
       "      <td>gross_profit_margin</td>\n",
       "      <td>81.936999</td>\n",
       "    </tr>\n",
       "    <tr>\n",
       "      <th>5</th>\n",
       "      <td>AMZN</td>\n",
       "      <td>operating_margin</td>\n",
       "      <td>5.552506</td>\n",
       "    </tr>\n",
       "    <tr>\n",
       "      <th>6</th>\n",
       "      <td>AAPL</td>\n",
       "      <td>operating_margin</td>\n",
       "      <td>26.641017</td>\n",
       "    </tr>\n",
       "    <tr>\n",
       "      <th>7</th>\n",
       "      <td>MSFT</td>\n",
       "      <td>operating_margin</td>\n",
       "      <td>36.850679</td>\n",
       "    </tr>\n",
       "    <tr>\n",
       "      <th>8</th>\n",
       "      <td>GOOG</td>\n",
       "      <td>operating_margin</td>\n",
       "      <td>24.543270</td>\n",
       "    </tr>\n",
       "    <tr>\n",
       "      <th>9</th>\n",
       "      <td>FB</td>\n",
       "      <td>operating_margin</td>\n",
       "      <td>35.124546</td>\n",
       "    </tr>\n",
       "  </tbody>\n",
       "</table>\n",
       "</div>"
      ],
      "text/plain": [
       "   Comp          margin_type  margin_value\n",
       "0  AMZN  gross_profit_margin     26.648177\n",
       "1  AAPL  gross_profit_margin     37.817768\n",
       "2  MSFT  gross_profit_margin     65.901957\n",
       "3  GOOG  gross_profit_margin     55.580543\n",
       "4    FB  gross_profit_margin     81.936999\n",
       "5  AMZN     operating_margin      5.552506\n",
       "6  AAPL     operating_margin     26.641017\n",
       "7  MSFT     operating_margin     36.850679\n",
       "8  GOOG     operating_margin     24.543270\n",
       "9    FB     operating_margin     35.124546"
      ]
     },
     "execution_count": 94,
     "metadata": {},
     "output_type": "execute_result"
    }
   ],
   "source": [
    "# reshaping the dataset to combine the margin values into a single column\n",
    "margins_long = pd.melt(margins, id_vars='Comp',\n",
    "                                 var_name='margin_type', \n",
    "                                 value_name='margin_value')\n",
    "margins_long"
   ]
  },
  {
   "cell_type": "markdown",
   "metadata": {},
   "source": [
    "&nbsp;\n",
    "\n",
    "### Task 6: Margin Plot"
   ]
  },
  {
   "cell_type": "markdown",
   "metadata": {},
   "source": [
    "Now it is your turn to use the reshaped dataset to create a barplot of the margin values with seaborn. Plot the company names on the x-axis and the margin value on the y-axis. Plot the gross profit margin and operating margin in different colours."
   ]
  },
  {
   "cell_type": "code",
   "execution_count": null,
   "metadata": {},
   "outputs": [],
   "source": []
  },
  {
   "cell_type": "markdown",
   "metadata": {},
   "source": [
    "### Customizing a seaborn catplot"
   ]
  },
  {
   "cell_type": "markdown",
   "metadata": {},
   "source": [
    "We are now going to customize the barplot by changing the plot title, axis and legend labels and the overall visual appearance by applying a theme.\n",
    "\n",
    "- `sns.set_style('whitegrid')` sets the theme to whitegrid. There are five themes available: darkgrid, whitegrid, dark, white, and ticks\n",
    "- `g.set()` can be used to set the title, axis labels, axis ticks and limits\n",
    "- `g._legend.set_title()` sets the legend title\n",
    "- `g._legend.texts[i].` to set a text value for the i-th label"
   ]
  },
  {
   "cell_type": "code",
   "execution_count": 130,
   "metadata": {},
   "outputs": [
    {
     "data": {
      "image/png": "[encoded data removed]",
      "text/plain": [
       "<Figure size 426.125x360 with 1 Axes>"
      ]
     },
     "metadata": {},
     "output_type": "display_data"
    }
   ],
   "source": [
    "sns.set_style('whitegrid')\n",
    "\n",
    "g = sns.catplot(x='class', y='survived', hue='sex', kind='bar', data=titanic)\n",
    "\n",
    "g.set(title='Titanic: Survival Rates ', xlabel='Passenger Class', ylabel='')\n",
    "g._legend.set_title('')\n",
    "g._legend.texts[0].set_text('Male')\n",
    "g._legend.texts[1].set_text('Female')"
   ]
  },
  {
   "cell_type": "markdown",
   "metadata": {},
   "source": [
    "### Task 7: Customizing the margin plot"
   ]
  },
  {
   "cell_type": "markdown",
   "metadata": {},
   "source": [
    "1. Set the title to 'Big Tech: Margins'\n",
    "2. Remove the x axis label\n",
    "3. Set the y axis label to Percent\n",
    "4. Remove the legend title\n",
    "5. Set the legend labels to 'Gross Profit Margin' and 'Operating Margin'"
   ]
  },
  {
   "cell_type": "code",
   "execution_count": null,
   "metadata": {},
   "outputs": [],
   "source": []
  },
  {
   "cell_type": "markdown",
   "metadata": {},
   "source": [
    "\n",
    "&nbsp;\n",
    "\n",
    "&nbsp;\n",
    "\n",
    "### Final task: Please give us your feedback!\n",
    "\n",
    "This is the first time that we are delivering our trainings online. In order to adapt our training to your needs and provide the most valuable learning experience for you, we depend on your feedack.\n",
    "\n",
    "We would be grateful if you could take **1 min** before the end of the workshop to get your feedback!\n",
    "\n",
    "[Click here to open the survey!](https://lse.eu.qualtrics.com/jfe/form/SV_9zagWkOtzNhmqt7?course=D058-P4A3&topic=Python&cohort=MT20)"
   ]
  },
  {
   "cell_type": "markdown",
   "metadata": {},
   "source": [
    "&nbsp;\n",
    "\n",
    "## Bonus tasks"
   ]
  },
  {
   "cell_type": "markdown",
   "metadata": {},
   "source": [
    "Use the documetation on the seaborn website or search on google to get help with the following tasks.\n",
    "1. Reorder the companies on the x-axis based on the gross profit margin in ascending order. You can set the order manually using an argument in the catplot() function.\n",
    "2. Change the x-axis tick labels to the full company name. \n",
    "3. Set the colour palette to pastel."
   ]
  }
 ],
 "metadata": {
  "kernelspec": {
   "display_name": "Python 3",
   "language": "python",
   "name": "python3"
  },
  "language_info": {
   "codemirror_mode": {
    "name": "ipython",
    "version": 3
   },
   "file_extension": ".py",
   "mimetype": "text/x-python",
   "name": "python",
   "nbconvert_exporter": "python",
   "pygments_lexer": "ipython3",
   "version": "3.8.3"
  }
 },
 "nbformat": 4,
 "nbformat_minor": 4
}
